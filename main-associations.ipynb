{
 "cells": [
  {
   "cell_type": "code",
   "execution_count": 23,
   "metadata": {},
   "outputs": [
    {
     "name": "stdout",
     "output_type": "stream",
     "text": [
      "Requirement already satisfied: pandas in /home/codespace/.local/lib/python3.10/site-packages (2.1.3)\n",
      "Requirement already satisfied: mlxtend in /usr/local/python/3.10.13/lib/python3.10/site-packages (0.23.0)\n",
      "Requirement already satisfied: openpyxl in /usr/local/python/3.10.13/lib/python3.10/site-packages (3.1.2)\n",
      "Requirement already satisfied: numpy<2,>=1.22.4 in /home/codespace/.local/lib/python3.10/site-packages (from pandas) (1.26.2)\n",
      "Requirement already satisfied: python-dateutil>=2.8.2 in /home/codespace/.local/lib/python3.10/site-packages (from pandas) (2.8.2)\n",
      "Requirement already satisfied: pytz>=2020.1 in /home/codespace/.local/lib/python3.10/site-packages (from pandas) (2023.3.post1)\n",
      "Requirement already satisfied: tzdata>=2022.1 in /home/codespace/.local/lib/python3.10/site-packages (from pandas) (2023.3)\n",
      "Requirement already satisfied: scipy>=1.2.1 in /home/codespace/.local/lib/python3.10/site-packages (from mlxtend) (1.11.4)\n",
      "Requirement already satisfied: scikit-learn>=1.0.2 in /home/codespace/.local/lib/python3.10/site-packages (from mlxtend) (1.3.2)\n",
      "Requirement already satisfied: matplotlib>=3.0.0 in /home/codespace/.local/lib/python3.10/site-packages (from mlxtend) (3.8.2)\n",
      "Requirement already satisfied: joblib>=0.13.2 in /home/codespace/.local/lib/python3.10/site-packages (from mlxtend) (1.3.2)\n",
      "Requirement already satisfied: et-xmlfile in /usr/local/python/3.10.13/lib/python3.10/site-packages (from openpyxl) (1.1.0)\n",
      "Requirement already satisfied: contourpy>=1.0.1 in /home/codespace/.local/lib/python3.10/site-packages (from matplotlib>=3.0.0->mlxtend) (1.2.0)\n",
      "Requirement already satisfied: cycler>=0.10 in /home/codespace/.local/lib/python3.10/site-packages (from matplotlib>=3.0.0->mlxtend) (0.12.1)\n",
      "Requirement already satisfied: fonttools>=4.22.0 in /home/codespace/.local/lib/python3.10/site-packages (from matplotlib>=3.0.0->mlxtend) (4.46.0)\n",
      "Requirement already satisfied: kiwisolver>=1.3.1 in /home/codespace/.local/lib/python3.10/site-packages (from matplotlib>=3.0.0->mlxtend) (1.4.5)\n",
      "Requirement already satisfied: packaging>=20.0 in /home/codespace/.local/lib/python3.10/site-packages (from matplotlib>=3.0.0->mlxtend) (23.2)\n",
      "Requirement already satisfied: pillow>=8 in /home/codespace/.local/lib/python3.10/site-packages (from matplotlib>=3.0.0->mlxtend) (10.1.0)\n",
      "Requirement already satisfied: pyparsing>=2.3.1 in /home/codespace/.local/lib/python3.10/site-packages (from matplotlib>=3.0.0->mlxtend) (3.1.1)\n",
      "Requirement already satisfied: six>=1.5 in /home/codespace/.local/lib/python3.10/site-packages (from python-dateutil>=2.8.2->pandas) (1.16.0)\n",
      "Requirement already satisfied: threadpoolctl>=2.0.0 in /home/codespace/.local/lib/python3.10/site-packages (from scikit-learn>=1.0.2->mlxtend) (3.2.0)\n",
      "\n",
      "\u001b[1m[\u001b[0m\u001b[34;49mnotice\u001b[0m\u001b[1;39;49m]\u001b[0m\u001b[39;49m A new release of pip is available: \u001b[0m\u001b[31;49m23.3.1\u001b[0m\u001b[39;49m -> \u001b[0m\u001b[32;49m23.3.2\u001b[0m\n",
      "\u001b[1m[\u001b[0m\u001b[34;49mnotice\u001b[0m\u001b[1;39;49m]\u001b[0m\u001b[39;49m To update, run: \u001b[0m\u001b[32;49mpython -m pip install --upgrade pip\u001b[0m\n"
     ]
    }
   ],
   "source": [
    "# Step 0: Install necessary libraries\n",
    "!pip install pandas mlxtend openpyxl"
   ]
  },
  {
   "cell_type": "code",
   "execution_count": 24,
   "metadata": {},
   "outputs": [],
   "source": [
    "# Step 1: Import necessary libraries\n",
    "import pandas as pd\n",
    "from mlxtend.preprocessing import TransactionEncoder\n",
    "from mlxtend.frequent_patterns import apriori, association_rules\n"
   ]
  },
  {
   "cell_type": "code",
   "execution_count": 25,
   "metadata": {},
   "outputs": [],
   "source": [
    "data = pd.read_csv('groceries.csv', header=None)"
   ]
  },
  {
   "cell_type": "code",
   "execution_count": 26,
   "metadata": {},
   "outputs": [],
   "source": [
    "# Step 2: Split the transactions into separate items\n",
    "transactions = data[0].str.split(',')\n",
    "\n",
    "# Step 3: Preprocess the data\n",
    "te = TransactionEncoder()\n",
    "te_ary = te.fit(transactions).transform(transactions)\n",
    "df = pd.DataFrame(te_ary, columns=te.columns_)\n"
   ]
  },
  {
   "cell_type": "code",
   "execution_count": 37,
   "metadata": {},
   "outputs": [],
   "source": [
    "# Step 3: Apply the Apriori algorithm to find frequent itemsets\n",
    "frequent_itemsets = apriori(df, min_support=0.1, use_colnames=True)\n"
   ]
  },
  {
   "cell_type": "code",
   "execution_count": 38,
   "metadata": {},
   "outputs": [
    {
     "name": "stdout",
     "output_type": "stream",
     "text": [
      "             antecedents           consequents  antecedent support  consequent support   support  confidence      lift  leverage  conviction  zhangs_metric\n",
      "0                 (COCK)             (BISCUIT)            0.251656            0.317881  0.145695    0.578947  1.821272  0.065699    1.620033       0.602574\n",
      "1              (BISCUIT)                (COCK)            0.317881            0.251656  0.145695    0.458333  1.821272  0.065699    1.381559       0.661077\n",
      "2               (COFFEE)             (BISCUIT)            0.682119            0.317881  0.218543    0.320388  1.007888  0.001710    1.003690       0.024621\n",
      "3              (BISCUIT)              (COFFEE)            0.317881            0.682119  0.218543    0.687500  1.007888  0.001710    1.017219       0.011474\n",
      "4           (CORNFLAKES)             (BISCUIT)            0.165563            0.317881  0.119205    0.720000  2.265000  0.066576    2.436140       0.669312\n",
      "5              (BISCUIT)          (CORNFLAKES)            0.317881            0.165563  0.119205    0.375000  2.265000  0.066576    1.335099       0.818770\n",
      "6                  (TEA)           (BOURNVITA)            0.569536            0.125828  0.112583    0.197674  1.570991  0.040919    1.089548       0.844344\n",
      "7            (BOURNVITA)                 (TEA)            0.125828            0.569536  0.112583    0.894737  1.570991  0.040919    4.089404       0.415775\n",
      "8                (BREAD)                (MILK)            0.642384            0.390728  0.278146    0.432990  1.108160  0.027148    1.074533       0.272928\n",
      "9                 (MILK)               (BREAD)            0.390728            0.642384  0.278146    0.711864  1.108160  0.027148    1.241138       0.160197\n",
      "10              (COFFEE)                (COCK)            0.682119            0.251656  0.251656    0.368932  1.466019  0.079996    1.185838       1.000000\n",
      "11                (COCK)              (COFFEE)            0.251656            0.682119  0.251656    1.000000  1.466019  0.079996         inf       0.424779\n",
      "12              (COFFEE)          (CORNFLAKES)            0.682119            0.165563  0.119205    0.174757  1.055534  0.006272    1.011141       0.165509\n",
      "13          (CORNFLAKES)              (COFFEE)            0.165563            0.682119  0.119205    0.720000  1.055534  0.006272    1.135289       0.063051\n",
      "14               (SUGER)              (COFFEE)            0.503311            0.682119  0.350993    0.697368  1.022356  0.007675    1.050389       0.044025\n",
      "15              (COFFEE)               (SUGER)            0.682119            0.503311  0.350993    0.514563  1.022356  0.007675    1.023179       0.068789\n",
      "16               (SUGER)                (MILK)            0.503311            0.390728  0.225166    0.447368  1.144960  0.028508    1.102491       0.254902\n",
      "17                (MILK)               (SUGER)            0.390728            0.503311  0.225166    0.576271  1.144960  0.028508    1.172185       0.207801\n",
      "18               (SUGER)                 (TEA)            0.503311            0.569536  0.317881    0.631579  1.108935  0.031227    1.168401       0.197778\n",
      "19                 (TEA)               (SUGER)            0.569536            0.503311  0.317881    0.558140  1.108935  0.031227    1.124085       0.228205\n",
      "20        (COFFEE, COCK)             (BISCUIT)            0.251656            0.317881  0.145695    0.578947  1.821272  0.065699    1.620033       0.602574\n",
      "21     (COFFEE, BISCUIT)                (COCK)            0.218543            0.251656  0.145695    0.666667  2.649123  0.090698    2.245033       0.796610\n",
      "22       (COCK, BISCUIT)              (COFFEE)            0.145695            0.682119  0.145695    1.000000  1.466019  0.046314         inf       0.372093\n",
      "23              (COFFEE)       (COCK, BISCUIT)            0.682119            0.145695  0.145695    0.213592  1.466019  0.046314    1.086338       1.000000\n",
      "24                (COCK)     (COFFEE, BISCUIT)            0.251656            0.218543  0.145695    0.578947  2.649123  0.090698    1.855960       0.831858\n",
      "25             (BISCUIT)        (COFFEE, COCK)            0.317881            0.251656  0.145695    0.458333  1.821272  0.065699    1.381559       0.661077\n",
      "26       (COFFEE, BREAD)                (COCK)            0.403974            0.251656  0.139073    0.344262  1.367990  0.037411    1.141225       0.451323\n",
      "27         (BREAD, COCK)              (COFFEE)            0.139073            0.682119  0.139073    1.000000  1.466019  0.044209         inf       0.369231\n",
      "28              (COFFEE)         (BREAD, COCK)            0.682119            0.139073  0.139073    0.203883  1.466019  0.044209    1.081408       1.000000\n",
      "29                (COCK)       (COFFEE, BREAD)            0.251656            0.403974  0.139073    0.552632  1.367990  0.037411    1.332295       0.359461\n",
      "30        (COFFEE, MILK)               (BREAD)            0.225166            0.642384  0.145695    0.647059  1.007277  0.001053    1.013245       0.009324\n",
      "31               (BREAD)        (COFFEE, MILK)            0.642384            0.225166  0.145695    0.226804  1.007277  0.001053    1.002119       0.020202\n",
      "32        (SUGER, BREAD)              (COFFEE)            0.278146            0.682119  0.192053    0.690476  1.012252  0.002324    1.026999       0.016767\n",
      "33              (COFFEE)        (SUGER, BREAD)            0.682119            0.278146  0.192053    0.281553  1.012252  0.002324    1.004743       0.038075\n",
      "34        (SUGER, BREAD)                (MILK)            0.278146            0.390728  0.145695    0.523810  1.340597  0.037016    1.279470       0.351960\n",
      "35         (SUGER, MILK)               (BREAD)            0.225166            0.642384  0.145695    0.647059  1.007277  0.001053    1.013245       0.009324\n",
      "36         (BREAD, MILK)               (SUGER)            0.278146            0.503311  0.145695    0.523810  1.040727  0.005702    1.043046       0.054212\n",
      "37               (SUGER)         (BREAD, MILK)            0.503311            0.278146  0.145695    0.289474  1.040727  0.005702    1.015943       0.078788\n",
      "38               (BREAD)         (SUGER, MILK)            0.642384            0.225166  0.145695    0.226804  1.007277  0.001053    1.002119       0.020202\n",
      "39                (MILK)        (SUGER, BREAD)            0.390728            0.278146  0.145695    0.372881  1.340597  0.037016    1.151065       0.416996\n",
      "40        (COFFEE, MILK)               (SUGER)            0.225166            0.503311  0.119205    0.529412  1.051858  0.005877    1.055464       0.063628\n",
      "41               (SUGER)        (COFFEE, MILK)            0.503311            0.225166  0.119205    0.236842  1.051858  0.005877    1.015300       0.099259\n",
      "42          (SUGER, TEA)              (COFFEE)            0.317881            0.682119  0.218543    0.687500  1.007888  0.001710    1.017219       0.011474\n",
      "43       (SUGER, COFFEE)                 (TEA)            0.350993            0.569536  0.218543    0.622642  1.093243  0.018640    1.140728       0.131416\n",
      "44         (TEA, COFFEE)               (SUGER)            0.331126            0.503311  0.218543    0.660000  1.311316  0.051884    1.460849       0.354935\n",
      "45               (SUGER)         (TEA, COFFEE)            0.503311            0.331126  0.218543    0.434211  1.311316  0.051884    1.182196       0.477980\n",
      "46                 (TEA)       (SUGER, COFFEE)            0.569536            0.350993  0.218543    0.383721  1.093243  0.018640    1.053105       0.198135\n",
      "47              (COFFEE)          (SUGER, TEA)            0.682119            0.317881  0.218543    0.320388  1.007888  0.001710    1.003690       0.024621\n",
      "48           (TEA, MILK)               (SUGER)            0.218543            0.503311  0.112583    0.515152  1.023525  0.002588    1.024421       0.029412\n",
      "49               (SUGER)           (TEA, MILK)            0.503311            0.218543  0.112583    0.223684  1.023525  0.002588    1.006623       0.046275\n",
      "50   (SUGER, TEA, BREAD)              (COFFEE)            0.139073            0.682119  0.105960    0.761905  1.116967  0.011096    1.335099       0.121635\n",
      "51  (TEA, COFFEE, BREAD)               (SUGER)            0.178808            0.503311  0.105960    0.592593  1.177388  0.015964    1.219145       0.183468\n",
      "52        (SUGER, BREAD)         (TEA, COFFEE)            0.278146            0.331126  0.105960    0.380952  1.150476  0.013859    1.080489       0.181193\n",
      "53         (TEA, COFFEE)        (SUGER, BREAD)            0.331126            0.278146  0.105960    0.320000  1.150476  0.013859    1.061550       0.195545\n",
      "54               (SUGER)  (TEA, COFFEE, BREAD)            0.503311            0.178808  0.105960    0.210526  1.177388  0.015964    1.040177       0.303333\n",
      "55              (COFFEE)   (SUGER, TEA, BREAD)            0.682119            0.139073  0.105960    0.155340  1.116967  0.011096    1.019259       0.329427\n"
     ]
    }
   ],
   "source": [
    "# Step 4: Generate association rules from the frequent itemsets\n",
    "rules = association_rules(frequent_itemsets, metric=\"lift\", min_threshold=1)\n",
    "print(rules.to_string())\n"
   ]
  }
 ],
 "metadata": {
  "kernelspec": {
   "display_name": "Python 3",
   "language": "python",
   "name": "python3"
  },
  "language_info": {
   "codemirror_mode": {
    "name": "ipython",
    "version": 3
   },
   "file_extension": ".py",
   "mimetype": "text/x-python",
   "name": "python",
   "nbconvert_exporter": "python",
   "pygments_lexer": "ipython3",
   "version": "3.10.13"
  }
 },
 "nbformat": 4,
 "nbformat_minor": 2
}
